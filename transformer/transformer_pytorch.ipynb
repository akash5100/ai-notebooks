{
 "cells": [
  {
   "cell_type": "code",
   "execution_count": 154,
   "metadata": {},
   "outputs": [],
   "source": [
    "# Dataset: https://raw.githubusercontent.com/karpathy/char-rnn/master/data/tinyshakespeare/input.txt"
   ]
  },
  {
   "cell_type": "code",
   "execution_count": 155,
   "metadata": {},
   "outputs": [],
   "source": [
    "import torch\n",
    "import torch.nn as nn\n",
    "import torch.nn.functional as F\n",
    "import matplotlib.pyplot as plt\n",
    "torch.manual_seed(54312);"
   ]
  },
  {
   "cell_type": "code",
   "execution_count": 592,
   "metadata": {},
   "outputs": [],
   "source": [
    "with open('input.txt', 'r', encoding='utf-8') as f:\n",
    "  text = f.read()\n",
    "\n",
    "chars = sorted(list(set(text)))\n",
    "stoi = { ch:i for i, ch in enumerate(chars)} # string to index map\n",
    "itos = { i:ch for i, ch in enumerate(chars)} # index to string map\n",
    "encode = lambda s: [stoi[c] for c in s]\n",
    "decode = lambda l: \"\".join([itos[i] for i in l])"
   ]
  },
  {
   "cell_type": "code",
   "execution_count": 698,
   "metadata": {},
   "outputs": [],
   "source": [
    "# Hyperparameters\n",
    "# ------------------------\n",
    "SL = 20               # Sequence length\n",
    "BS = 32               # batch size\n",
    "emb_sz = 64           # embedding size\n",
    "vocab_sz = len(chars) # Vocab size\n",
    "P = 0.2               # Dropout strength\n",
    "head_size = 128       # Single attention head size\n",
    "n_head = 4            # Num of heads in multi-head self attention\n",
    "n_layers = 1          # Num of Blocks in BobNet\n",
    "# ------------------------\n",
    "\n",
    "train_split = 0.1     # % of data to use in train split \n",
    "\n",
    "# ------------------------"
   ]
  },
  {
   "cell_type": "code",
   "execution_count": 699,
   "metadata": {},
   "outputs": [],
   "source": [
    "data = torch.tensor(encode(text), dtype=torch.long)\n",
    "n = int(len(data)*train_split) # using 90% as training set\n",
    "Xtr = data[:n]\n",
    "val_data = data[n:]\n",
    "\n",
    "# Build dataset\n",
    "def get_batch(split, seq_len=SL):\n",
    "  data = Xtr if split == 'train' else val_data\n",
    "  idx = torch.randint(0, len(data)-seq_len, size=(BS,))\n",
    "  x = torch.stack([data[i  :i+seq_len  ] for i in idx])\n",
    "  y = torch.stack([data[i+1:i+seq_len+1] for i in idx])\n",
    "  return x,y"
   ]
  },
  {
   "cell_type": "code",
   "execution_count": 700,
   "metadata": {},
   "outputs": [
    {
     "data": {
      "text/plain": [
       "(torch.Size([32, 20]), torch.Size([32, 20]))"
      ]
     },
     "execution_count": 700,
     "metadata": {},
     "output_type": "execute_result"
    }
   ],
   "source": [
    "xb, yb = get_batch('train')\n",
    "xb.shape, yb.shape"
   ]
  },
  {
   "cell_type": "code",
   "execution_count": 701,
   "metadata": {},
   "outputs": [],
   "source": [
    "## Self Attention (Decoder)\n",
    "class Head(nn.Module):\n",
    "  def __init__(self, head_size):\n",
    "    super().__init__()\n",
    "    self.key   = nn.Linear(emb_sz, head_size, bias=False)\n",
    "    self.query = nn.Linear(emb_sz, head_size, bias=False)\n",
    "    self.value = nn.Linear(emb_sz, head_size, bias=False)\n",
    "    self.register_buffer('tril', torch.tril(torch.ones(SL, SL)))\n",
    "    self.dropout = nn.Dropout(P)\n",
    "\n",
    "  def forward(self, x):\n",
    "    # X = B,T,C ; where T is SL and C is emb_sz\n",
    "    B,T,C = x.shape\n",
    "    q = self.query(x) # (B,T,hs)\n",
    "    k = self.key(x)   # (B,T,hs)\n",
    "    wei = q @ k.transpose(-2, -1) * k.shape[-1]**-0.5 # (B,T,hs) @ (B,hs,T) -> (B,T,T)\n",
    "    wei = wei.masked_fill_(self.tril[:T, :T]==0, float('-inf')) # (B,T,T)\n",
    "    wei = F.softmax(wei, dim=-1)\n",
    "    wei = self.dropout(wei)\n",
    "    v = self.value(x) # (B,T,hs)\n",
    "    out = wei @ v # (B,T,HS)\n",
    "    return out\n",
    "\n",
    "\n",
    "## Multi-head Self attention\n",
    "class MultiHeadAttention(nn.Module):\n",
    "  def __init__(self, n_head, head_size):\n",
    "    super().__init__()\n",
    "    self.heads = nn.ModuleList([Head(head_size) for _ in range(n_head)])\n",
    "    self.linear = nn.Linear(head_size * n_head, emb_sz)\n",
    "    self.dropout = nn.Dropout(P)\n",
    "\n",
    "  def forward(self, x):\n",
    "    out = torch.cat([h(x) for h in self.heads], dim=-1)\n",
    "    out = self.dropout(self.linear(out)) # B,T,HS @ B,HS,HS\n",
    "    return out\n",
    "\n",
    "\n",
    "## Helpers\n",
    "class FeedForward(nn.Module):\n",
    "  def __init__(self, emb_sz):\n",
    "    super().__init__()\n",
    "    self.net = nn.Sequential(\n",
    "      nn.Linear(emb_sz, 4*emb_sz),\n",
    "      nn.LayerNorm(4*emb_sz),\n",
    "      nn.ReLU(),\n",
    "      nn.Linear(4*emb_sz, emb_sz),\n",
    "      nn.Dropout(P)\n",
    "    )\n",
    "\n",
    "  def forward(self, x):\n",
    "    out = self.net(x)\n",
    "    return out\n",
    "\n",
    "\n",
    "## Transformer\n",
    "class Block(nn.Module):\n",
    "  def __init__(self, n_head, emb_sz):\n",
    "    super().__init__()\n",
    "    assert emb_sz % n_head == 0\n",
    "    head_size = emb_sz // n_head\n",
    "    self.sa = MultiHeadAttention(n_head, head_size) # B,T,HS\n",
    "    self.ff =   FeedForward(emb_sz)\n",
    "    self.ln1 = nn.LayerNorm(emb_sz)\n",
    "    self.ln2 = nn.LayerNorm(emb_sz)\n",
    "\n",
    "  def forward(self, x):\n",
    "    x = x + self.sa(self.ln1(x))\n",
    "    x = x + self.ff(self.ln2(x))\n",
    "    return x\n",
    "\n",
    "\n",
    "class bobGenerator(nn.Module):\n",
    "  def __init__(self):\n",
    "    super().__init__()\n",
    "    self.tok_emb = nn.Embedding(vocab_sz, emb_sz)\n",
    "    self.pos_emb = nn.Embedding(SL, emb_sz)\n",
    "    self.blocks = nn.Sequential(*[Block(n_head, emb_sz) for _ in range(n_layers)])\n",
    "    self.lnorm = nn.LayerNorm(emb_sz)\n",
    "    self.lout = nn.Linear(emb_sz, vocab_sz)\n",
    "    # fixing initializations\n",
    "    self.apply(self._init_weights)\n",
    "\n",
    "  def _init_weights(self, module):\n",
    "    if isinstance(module, nn.Linear):\n",
    "      torch.nn.init.normal_(module.weight, mean=0.0, std=0.02)\n",
    "      if module.bias is not None:\n",
    "        torch.nn.init.zeros_(module.bias) * .001\n",
    "    elif isinstance(module, nn.Embedding):\n",
    "      torch.nn.init.normal_(module.weight, mean=0.0, std=0.02)\n",
    "\n",
    "  def forward(self, xb, target=None):\n",
    "    B,T = xb.shape\n",
    "    tok_emb = self.tok_emb(xb) # B,T,C\n",
    "    pos_emb = self.pos_emb(torch.arange(T)) # T,C\n",
    "    x = tok_emb + pos_emb\n",
    "    x = self.blocks(x)\n",
    "    x = self.lnorm(x)\n",
    "    logits =  self.lout(x)\n",
    "\n",
    "    if target is None:\n",
    "      loss = None\n",
    "    else:\n",
    "      B, T, C = logits.shape\n",
    "      x = logits.view(B*T,C)\n",
    "      y = yb.view(B*T)\n",
    "      loss = F.cross_entropy(x, y)\n",
    "    return logits, loss\n",
    "  \n",
    "  @torch.no_grad()\n",
    "  def generate(self, idx, max_new_tokens):\n",
    "    for _ in range(max_new_tokens):\n",
    "      i = idx[:, -SL:]\n",
    "      logits, _ = self(i)\n",
    "      logits = logits[:, -1, :] # B,T,C -> B,C\n",
    "      probs = logits.softmax(-1)\n",
    "      next_idx = torch.multinomial(probs, num_samples=1)\n",
    "      idx = torch.cat((idx, next_idx), dim=1)\n",
    "    return idx.squeeze()"
   ]
  },
  {
   "cell_type": "code",
   "execution_count": 702,
   "metadata": {},
   "outputs": [
    {
     "name": "stdout",
     "output_type": "stream",
     "text": [
      "60097 parameters\n"
     ]
    }
   ],
   "source": [
    "bob = bobGenerator()\n",
    "model = bob\n",
    "print(sum([p.nelement() for p in model.parameters()]), \"parameters\")"
   ]
  },
  {
   "cell_type": "code",
   "execution_count": 703,
   "metadata": {},
   "outputs": [],
   "source": [
    "epoch = 1000\n",
    "interval = 100    # run val per x epoch\n",
    "eval_iters = 200  # run val per x data\n",
    "learning_rate = 3e-4\n",
    "lossi = []\n",
    "vlossi = []\n",
    "\n",
    "optim = torch.optim.AdamW(model.parameters(), lr=learning_rate)\n",
    "\n",
    "@torch.no_grad()\n",
    "def split_loss():\n",
    "  out = {}\n",
    "  model.eval()\n",
    "  for split in ['train', 'val']:\n",
    "    losses = torch.zeros(eval_iters)\n",
    "    for k in range(eval_iters):\n",
    "      X, Y = get_batch(split)\n",
    "      _, loss = model(X, Y)\n",
    "      losses[k] = loss.item()\n",
    "    out[split] = losses.mean()\n",
    "  model.train()\n",
    "  return out['train'], out['val']"
   ]
  },
  {
   "cell_type": "code",
   "execution_count": 704,
   "metadata": {},
   "outputs": [
    {
     "name": "stdout",
     "output_type": "stream",
     "text": [
      "epoch       0/   1000 | loss:  4.1380 | perp: 65.7615 | loss:  4.1375\n",
      "epoch     100/   1000 | loss:  3.5883 | perp: 20.2983 | loss:  3.5706\n",
      "epoch     200/   1000 | loss:  3.7387 | perp: 14.2765 | loss:  3.7135\n",
      "epoch     300/   1000 | loss:  4.0374 | perp: 11.8960 | loss:  4.0103\n",
      "epoch     400/   1000 | loss:  4.3180 | perp: 11.4378 | loss:  4.2919\n",
      "epoch     500/   1000 | loss:  4.4227 | perp: 10.8336 | loss:  4.3745\n",
      "epoch     600/   1000 | loss:  4.5105 | perp: 10.4199 | loss:  4.4543\n",
      "epoch     700/   1000 | loss:  4.8102 | perp:  9.8730 | loss:  4.7482\n",
      "epoch     800/   1000 | loss:  4.7283 | perp:  8.9646 | loss:  4.6756\n",
      "epoch     900/   1000 | loss:  5.1240 | perp:  7.8907 | loss:  5.0745\n",
      "epoch     999/   1000 | loss:  4.9424 | perp:  9.0610 | loss:  4.8774\n"
     ]
    }
   ],
   "source": [
    "for i in range(epoch):\n",
    "  # mini-batch\n",
    "  xb,yb = get_batch('train')\n",
    "  logits, loss = model(xb, yb)\n",
    "  \n",
    "  # backward\n",
    "  optim.zero_grad(set_to_none=True)\n",
    "  loss.backward()\n",
    "  \n",
    "  # step\n",
    "  optim.step()\n",
    "  \n",
    "  # train-valid split testing (sometimes)\n",
    "  if i % interval == 0 or i == epoch-1:\n",
    "    tloss, vloss = split_loss()\n",
    "    # print(f\"epoch {i:7d}/{epoch:7d} | loss: {loss:7.4f} | perp: {(loss.exp().item()):7.4f}\")\n",
    "    print(f\"epoch {i:7d}/{epoch:7d} | loss: {tloss:7.4f} | perp: {(loss.exp().item()):7.4f} | loss: {vloss:7.4f}\")\n",
    "\n",
    "  # track\n",
    "  lossi.append(loss.item())\n",
    "  vlossi.append(vloss.item())"
   ]
  },
  {
   "cell_type": "code",
   "execution_count": 705,
   "metadata": {},
   "outputs": [
    {
     "data": {
      "image/png": "[encoded data removed]",
      "text/plain": [
       "<Figure size 640x480 with 1 Axes>"
      ]
     },
     "metadata": {},
     "output_type": "display_data"
    }
   ],
   "source": [
    "legends = ['train', 'val']\n",
    "plt.plot(torch.tensor(lossi).view(-1, 100).mean(-1), label='train');\n",
    "plt.plot(torch.tensor(vlossi).view(-1, 100).mean(-1), label='val');\n",
    "plt.legend(legends)\n",
    "plt.show()"
   ]
  },
  {
   "cell_type": "code",
   "execution_count": 713,
   "metadata": {},
   "outputs": [
    {
     "name": "stdout",
     "output_type": "stream",
     "text": [
      "\n",
      "tour This thary\n",
      "We I\n"
     ]
    }
   ],
   "source": [
    "idx = torch.zeros((1, 1), dtype=torch.long) # instead of B,T -- 1,1\n",
    "# we are predicting (for each seq) the next token\n",
    "\n",
    "# bob is speaking\n",
    "bob_lang = bob.generate(idx, max_new_tokens=20).tolist()\n",
    "print(decode(bob_lang))"
   ]
  }
 ],
 "metadata": {
  "kernelspec": {
   "display_name": "fun",
   "language": "python",
   "name": "python3"
  },
  "language_info": {
   "codemirror_mode": {
    "name": "ipython",
    "version": 3
   },
   "file_extension": ".py",
   "mimetype": "text/x-python",
   "name": "python",
   "nbconvert_exporter": "python",
   "pygments_lexer": "ipython3",
   "version": "3.10.12"
  }
 },
 "nbformat": 4,
 "nbformat_minor": 2
}
