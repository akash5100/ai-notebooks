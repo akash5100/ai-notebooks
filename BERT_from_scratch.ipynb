{
 "cells": [
  {
   "cell_type": "code",
   "execution_count": 1,
   "metadata": {
    "tags": []
   },
   "outputs": [],
   "source": [
    "import torch\n",
    "import torch.nn as nn\n",
    "import torch.nn.functional as F\n",
    "\n",
    "import matplotlib.pyplot as plt\n",
    "\n",
    "from bpe_tokenizer.bpe import RegexTokenizer\n",
    "import numpy as np"
   ]
  },
  {
   "cell_type": "code",
   "execution_count": 2,
   "metadata": {
    "tags": []
   },
   "outputs": [],
   "source": [
    "CONTEXT_LENGTH = 32"
   ]
  },
  {
   "cell_type": "code",
   "execution_count": 8,
   "metadata": {
    "tags": []
   },
   "outputs": [
    {
     "data": {
      "text/plain": [
       "1000"
      ]
     },
     "execution_count": 8,
     "metadata": {},
     "output_type": "execute_result"
    }
   ],
   "source": [
    "# Special tokens\n",
    "MASK = '[MASK]'\n",
    "CLS = '[CLS]'\n",
    "PAD = '[PAD]'\n",
    "SEP = '[SEP]'\n",
    "\n",
    "special_tokens={\n",
    "  MASK: 1996,\n",
    "  CLS:  1997,\n",
    "  PAD:  1998,\n",
    "  SEP:  1999,\n",
    "}\n",
    "\n",
    "tkn = RegexTokenizer(special_tokens)\n",
    "\n",
    "# Text for tokenization\n",
    "# with open('./data/mini_big.txt', 'r') as f:\n",
    "#   text = f.read()\n",
    "\n",
    "# tkn.train(text, 500-4)\n",
    "# tkn.save('bert_bpe')\n",
    "\n",
    "tkn.load('bert_bpe.model')\n",
    "len(tkn.vocab)"
   ]
  },
  {
   "cell_type": "code",
   "execution_count": 6,
   "metadata": {
    "tags": []
   },
   "outputs": [],
   "source": [
    "# !pip install tqdm"
   ]
  },
  {
   "cell_type": "code",
   "execution_count": 9,
   "metadata": {
    "tags": []
   },
   "outputs": [
    {
     "name": "stderr",
     "output_type": "stream",
     "text": [
      "100%|██████████| 103600/103600 [00:22<00:00, 4670.95it/s] \n"
     ]
    }
   ],
   "source": [
    "# creating dataset\n",
    "max_len = CONTEXT_LENGTH\n",
    "with open('./data/big.txt', 'r') as f:\n",
    "  text = f.read()\n",
    "\n",
    "sentences = text.splitlines()\n",
    "sentences = [i for i in sentences if i != ''] #remove ''\n",
    "tokens = []\n",
    "\n",
    "import tqdm\n",
    "for s in tqdm.tqdm(sentences):\n",
    "  token = tkn.encode(s)\n",
    "  token = [special_tokens[CLS]] + token + [special_tokens[SEP]]\n",
    "  tokens.append(token)"
   ]
  },
  {
   "cell_type": "code",
   "execution_count": 10,
   "metadata": {
    "tags": []
   },
   "outputs": [
    {
     "data": {
      "text/plain": [
       "('[CLS]The Project Gutenberg EBook of The Adventures of Sherlock Holmes[SEP]',\n",
       " '[CLS]The man sprang from his chair and paced up and down the room in uncontrollable agitation. Then, with a gesture of desperation, he tore the mask from his face and hurled it upon the ground. \"You are right,\" he cried; \"I am the King. Why should I attempt to conceal it?\"[SEP]')"
      ]
     },
     "execution_count": 10,
     "metadata": {},
     "output_type": "execute_result"
    }
   ],
   "source": [
    "tkn.decode(tokens[0]), tkn.decode(tokens[100])"
   ]
  },
  {
   "cell_type": "code",
   "execution_count": 12,
   "metadata": {
    "tags": []
   },
   "outputs": [
    {
     "name": "stderr",
     "output_type": "stream",
     "text": [
      "100%|██████████| 103600/103600 [00:00<00:00, 287292.11it/s]\n"
     ]
    }
   ],
   "source": [
    "input_ids = [] # tokens input\n",
    "attention_masks = [] # its mask\n",
    "\n",
    "for i in tqdm.tqdm(tokens):\n",
    "  if len(i) > max_len: # if big, crop\n",
    "    i = i[:max_len - 1] + [special_tokens['[SEP]']]\n",
    "  \n",
    "  padding_len = max_len - len(i)\n",
    "  i += [special_tokens['[PAD]']] * padding_len\n",
    "\n",
    "  # attention mask, 1 is real token, 0 is fake/padding\n",
    "  attention_mask = [1] * (max_len - padding_len) + [0] * padding_len\n",
    "\n",
    "  input_ids.append(i)\n",
    "  attention_masks.append(attention_mask)\n",
    "\n",
    "input_ids = np.array(input_ids)\n",
    "attention_masks = np.array(attention_masks)"
   ]
  },
  {
   "cell_type": "code",
   "execution_count": 13,
   "metadata": {
    "tags": []
   },
   "outputs": [],
   "source": [
    "# Transformer's Core\n",
    "## Self-Attention head (encoder)\n",
    "class Head(nn.Module):\n",
    "  def __init__(self, head_sz):\n",
    "    super().__init__()\n",
    "    self.query = nn.Linear(emb_sz, head_sz, bias=False)\n",
    "    self.key   = nn.Linear(emb_sz, head_sz, bias=False)\n",
    "    self.value = nn.Linear(emb_sz, head_sz, bias=False)\n",
    "    self.dropout = nn.Dropout(P)\n",
    "  \n",
    "  def forward(self, x, mask=None):\n",
    "    q = self.query(x)\n",
    "    k = self.key(x)\n",
    "    v = self.value(x)\n",
    "    wei = q @ k.transpose(-2,-1) * (head_sz**-0.5)\n",
    "    if mask is not None:\n",
    "      mask = mask.unsqueeze(1).expand(wei.size())\n",
    "      wei = wei.masked_fill(mask==0,float('-inf'))\n",
    "    wei = F.softmax(wei, dim=-1)\n",
    "    wei = self.dropout(wei)\n",
    "    out = wei @ v\n",
    "    return out\n",
    "\n",
    "\n",
    "## Multi-Head Attention\n",
    "class MultiHeadAttention(nn.Module):\n",
    "  def __init__(self, n_head, head_sz):\n",
    "    super().__init__()\n",
    "    self.heads = nn.ModuleList([Head(head_sz) for _ in range(n_head)])\n",
    "    self.linear = nn.Linear(n_head*head_sz, emb_sz)\n",
    "    self.dropout = nn.Dropout(P)\n",
    "  \n",
    "  def forward(self, x, mask=None): # B,T,C\n",
    "    out = torch.cat([h(x, mask) for h in self.heads], dim=-1) # n* B,T,H -> B,T,n*H\n",
    "    out = self.dropout(self.linear(out)) # B,T,nH @ nH, C -> B,T,C \n",
    "    return out\n",
    "\n",
    "\n",
    "## Feed Forward\n",
    "class FeedForward(nn.Module):\n",
    "  def __init__(self, emb_sz):\n",
    "    super().__init__()\n",
    "    self.net = nn.Sequential(\n",
    "      nn.Linear(emb_sz, emb_sz*4),\n",
    "      nn.LayerNorm(emb_sz*4),\n",
    "      nn.GELU(),\n",
    "      nn.Linear(emb_sz*4, emb_sz),\n",
    "      nn.Dropout(P),\n",
    "    )\n",
    "  \n",
    "  def forward(self, x): # B,T,C\n",
    "    out = self.net(x)\n",
    "    return out\n",
    "\n",
    "\n",
    "class Transformer(nn.Module):\n",
    "  def __init__(self, n_head, head_sz):\n",
    "    super().__init__()\n",
    "    assert head_sz%n_head == 0 # 768 // 12 -> 64\n",
    "    HS = head_sz//n_head\n",
    "    self.sa = MultiHeadAttention(n_head, HS) \n",
    "    self.ff = FeedForward(emb_sz)\n",
    "    self.ln1 = nn.LayerNorm(emb_sz)\n",
    "    self.ln2 = nn.LayerNorm(emb_sz)\n",
    "\n",
    "  def forward(self, x, mask=None):\n",
    "    x = x + self.sa(self.ln1(x), mask)\n",
    "    x = x + self.ff(self.ln2(x))\n",
    "    return x"
   ]
  },
  {
   "cell_type": "code",
   "execution_count": 15,
   "metadata": {
    "tags": []
   },
   "outputs": [
    {
     "data": {
      "text/plain": [
       "37.021671999999995"
      ]
     },
     "execution_count": 15,
     "metadata": {},
     "output_type": "execute_result"
    }
   ],
   "source": [
    "class TinyBERT(nn.Module):\n",
    "  def __init__(self):\n",
    "    super().__init__()\n",
    "    self.vocab_emb = nn.Embedding(vocab_sz, emb_sz)\n",
    "    self.positional_emb = nn.Embedding(SL, emb_sz)\n",
    "    self.blocks = nn.Sequential(*[Transformer(n_head, head_sz) for _ in range(n_layers)])\n",
    "    self.lnorm = nn.LayerNorm(emb_sz) # final layer norm\n",
    "    self.linear = nn.Linear(emb_sz, vocab_sz)\n",
    "    self.apply(self._init_weights)\n",
    "\n",
    "  def _init_weights(self, module):\n",
    "    if isinstance(module, nn.Linear):\n",
    "      torch.nn.init.normal_(module.weight, mean=0.0, std=0.02)\n",
    "      if module.bias is not None:\n",
    "        torch.nn.init.constant_(module.bias, 0.001)\n",
    "    elif isinstance(module, nn.Embedding):\n",
    "      torch.nn.init.normal_(module.weight, mean=0.0, std=0.02) \n",
    "\n",
    "  def forward(self, x, mask=None, target=None): # B,T\n",
    "    B,T = x.shape\n",
    "    assert T <= SL, f\"Sequence length {T} exceeds maximum length {SL}\"\n",
    "    tkn_emb = self.vocab_emb(x)\n",
    "    pos_emb = self.positional_emb(torch.arange(T, device=x.device))\n",
    "    x = tkn_emb + pos_emb\n",
    "    for b in self.blocks:\n",
    "      x = b(x, mask)\n",
    "    x = self.lnorm(x)\n",
    "    logits = self.linear(x)\n",
    "    loss = None\n",
    "    if target is not None:\n",
    "      B, T, C = logits.shape\n",
    "      x = logits.view(B*T,C)\n",
    "      y = target.view(B*T)\n",
    "      loss = F.cross_entropy(x, y, ignore_index=-100)\n",
    "    return logits, loss\n",
    "\n",
    "## INIT\n",
    "bs = 32\n",
    "SL = CONTEXT_LENGTH\n",
    "vocab_sz = len(tkn.vocab)\n",
    "emb_sz = 768\n",
    "pos_sz = 768\n",
    "n_head = 12\n",
    "head_sz = 768\n",
    "n_layers = 5\n",
    "\n",
    "# regularization\n",
    "P = 0.4 # dropout\n",
    "w = 0.01 # use AdamW\n",
    "\n",
    "model = TinyBERT().cuda()\n",
    "sum([p.nelement() for p in model.parameters()]) * 1e-6 # million"
   ]
  },
  {
   "cell_type": "code",
   "execution_count": 16,
   "metadata": {
    "tags": []
   },
   "outputs": [],
   "source": [
    "# MLM (Masked Language Modeling)\n",
    "def mask_tokens(inputs, special_tokens, p=0.15): \n",
    "  labels = inputs.clone()\n",
    "\n",
    "  # mask for each element in labels has p probabilty to get 1\n",
    "  mask = torch.full(labels.shape, p, device=inputs.device).bernoulli().bool()\n",
    "  # condition: make special tokens false else true\n",
    "  # and intersect, mask with condition. Both true gets masked\n",
    "  mask &= ~torch.isin(inputs, torch.tensor(\n",
    "    [special_tokens['[CLS]'], special_tokens['[PAD]'], special_tokens['[SEP]']],\n",
    "    device=inputs.device\n",
    "  ))\n",
    "  replacement_choices = torch.rand(labels.shape, device=inputs.device)\n",
    "\n",
    "  # make 80% of mask -> [MASK]\n",
    "  mask_replacement = mask & (replacement_choices < 0.8)\n",
    "  inputs[mask_replacement] = special_tokens['[MASK]']\n",
    "\n",
    "  # replace 10% of mask with random tokens\n",
    "  vocab_replacement = mask & (replacement_choices >= 0.8) & (replacement_choices < 0.9)\n",
    "  random_tokens = torch.randint(len(tkn.vocab), labels.shape, device=inputs.device)\n",
    "  inputs[vocab_replacement] = random_tokens[vocab_replacement]\n",
    "  # remaining 10%-- do nothing\n",
    "  # labels, if not masked then set a flag, not to calc loss\n",
    "  # contains only the tokens replaced with [MASK] in labels\n",
    "  labels[~mask] = -100\n",
    "\n",
    "  return inputs, labels\n",
    "\n",
    "# Testing\n",
    "# i = 100\n",
    "# print(tkn.decode(list(input_ids[i])))\n",
    "# input_ids_tensor = torch.tensor(input_ids)[i]\n",
    "# x, y = mask_tokens(input_ids_tensor, tkn, special_tokens)\n",
    "# tkn.decode(x.tolist()), y"
   ]
  },
  {
   "cell_type": "code",
   "execution_count": 17,
   "metadata": {
    "tags": []
   },
   "outputs": [],
   "source": [
    "def shuffle_data(inputs, attention_masks):\n",
    "    idx = np.arange(len(inputs))\n",
    "    np.random.shuffle(idx)\n",
    "    return inputs[idx], attention_masks[idx]\n",
    "\n",
    "\n",
    "def get_batches(inputs, attention_masks, BS=64, shuffle=True):\n",
    "    if shuffle:\n",
    "        inputs, attention_masks = shuffle_data(inputs, attention_masks)\n",
    "    batches = []\n",
    "    for start in range(0, len(inputs), BS):\n",
    "        end = start + BS\n",
    "        batch_I = inputs[start:end]\n",
    "        batch_A = attention_masks[start:end]\n",
    "        batches.append((batch_I, batch_A))\n",
    "    return batches\n",
    "    \n",
    "def get_single_batch(inputs, attention_masks, BS=64, shuffle=True):\n",
    "    if shuffle:\n",
    "        inputs, attention_masks = shuffle_data(inputs, attention_masks)\n",
    "    batch_I = inputs[0:BS]\n",
    "    batch_A = attention_masks[0:BS]\n",
    "    return batch_I, batch_A\n",
    "\n",
    "# Testing\n",
    "# input_ids_tensor = torch.tensor(input_ids)\n",
    "# attention_masks_tensor = torch.tensor(attention_masks)\n",
    "# get_batches(input_ids_tensor, attention_masks_tensor)"
   ]
  },
  {
   "cell_type": "code",
   "execution_count": 20,
   "metadata": {
    "tags": []
   },
   "outputs": [],
   "source": [
    "from torch.optim import AdamW\n",
    "\n",
    "LR = 5e-5\n",
    "EPOCH = 10"
   ]
  },
  {
   "cell_type": "code",
   "execution_count": 21,
   "metadata": {
    "tags": []
   },
   "outputs": [],
   "source": [
    "# create Train and Val\n",
    "i = int(len(input_ids)*0.8)\n",
    "\n",
    "Xtr = input_ids[:i]\n",
    "Atr = attention_masks[:i]\n",
    "\n",
    "XVa = input_ids[i:]\n",
    "AVa = attention_masks[i:]\n",
    "\n",
    "# numpy -> tensor -> gpu \n",
    "Xtr = torch.tensor(Xtr).cuda()\n",
    "Atr = torch.tensor(Atr).cuda()\n",
    "XVal = torch.tensor(XVa).cuda()\n",
    "AVal = torch.tensor(AVa).cuda()"
   ]
  },
  {
   "cell_type": "code",
   "execution_count": 136,
   "metadata": {
    "tags": []
   },
   "outputs": [],
   "source": [
    "from torch.optim.lr_scheduler import CosineAnnealingLR\n",
    "\n",
    "model = TinyBERT().cuda()\n",
    "lossi, vlossi = [], []\n",
    "saves = []"
   ]
  },
  {
   "cell_type": "code",
   "execution_count": 138,
   "metadata": {
    "tags": []
   },
   "outputs": [
    {
     "name": "stderr",
     "output_type": "stream",
     "text": [
      "100%|██████████| 500/500 [00:45<00:00, 10.99it/s]\n"
     ]
    },
    {
     "name": "stdout",
     "output_type": "stream",
     "text": [
      "Epoch 1, Loss: 4.847160816192627, vloss: 5.520872116088867\n"
     ]
    },
    {
     "name": "stderr",
     "output_type": "stream",
     "text": [
      "100%|██████████| 500/500 [00:45<00:00, 10.92it/s]\n"
     ]
    },
    {
     "name": "stdout",
     "output_type": "stream",
     "text": [
      "Epoch 2, Loss: 4.830645561218262, vloss: 5.455379009246826\n"
     ]
    },
    {
     "name": "stderr",
     "output_type": "stream",
     "text": [
      "100%|██████████| 500/500 [00:45<00:00, 10.96it/s]\n"
     ]
    },
    {
     "name": "stdout",
     "output_type": "stream",
     "text": [
      "Epoch 3, Loss: 4.351980209350586, vloss: 5.06581449508667\n"
     ]
    },
    {
     "name": "stderr",
     "output_type": "stream",
     "text": [
      "100%|██████████| 500/500 [00:45<00:00, 10.95it/s]\n"
     ]
    },
    {
     "name": "stdout",
     "output_type": "stream",
     "text": [
      "Epoch 4, Loss: 3.8341875076293945, vloss: 4.434507846832275\n"
     ]
    },
    {
     "name": "stderr",
     "output_type": "stream",
     "text": [
      "100%|██████████| 500/500 [00:45<00:00, 10.96it/s]\n"
     ]
    },
    {
     "name": "stdout",
     "output_type": "stream",
     "text": [
      "Epoch 5, Loss: 3.691375732421875, vloss: 4.58909797668457\n"
     ]
    }
   ],
   "source": [
    "def test_val(model):\n",
    "    model.eval()\n",
    "    inp, attn = get_single_batch(XVal, AVal, BS=bs)\n",
    "    inp, attn = inp.cuda(), attn.cuda()\n",
    "    masked_inp, labels = mask_tokens(inp, special_tokens)\n",
    "    masked_inp, labels = masked_inp.cuda(), labels.cuda()\n",
    "    _, loss = model(masked_inp, attn, labels)\n",
    "    return loss\n",
    "\n",
    "def train2(model, epoch, lr=LR):\n",
    "  optimizer = AdamW(model.parameters(), lr=LR)\n",
    "  model.cuda()\n",
    "  best_vloss = float('inf')\n",
    "  scheduler = CosineAnnealingLR(optimizer, T_max=epoch)\n",
    "\n",
    "  batches = get_batches(Xtr, Atr, BS=bs)\n",
    "  for i in range(epoch):\n",
    "    total_loss = 0\n",
    "    model.train()\n",
    "    for inp, attn in tqdm.tqdm(batches[:500]):\n",
    "      inp, attn = inp.cuda(), attn.cuda()\n",
    "      masked_inp, labels = mask_tokens(inp, special_tokens)\n",
    "      masked_inp, labels = masked_inp.cuda(), labels.cuda()\n",
    "      model.zero_grad()\n",
    "      _, loss = model(masked_inp, attn, labels)\n",
    "      loss.backward()\n",
    "      optimizer.step()\n",
    "      total_loss += loss.item()\n",
    "    \n",
    "    avg_loss = total_loss / len(batches)\n",
    "    vloss = test_val(model)\n",
    "    lossi.append(loss.item())\n",
    "    vlossi.append(vloss.item())\n",
    "    if vloss < best_vloss:\n",
    "        best_loss = vloss\n",
    "        saves.append(i)\n",
    "        torch.save(model.state_dict(), 'tinybert.cuda.pth')\n",
    "    print(f\"Epoch {i+1}, Loss: {loss.item()}, vloss: {vloss.item()}\")\n",
    "    scheduler.step()\n",
    "\n",
    "train2(model, epoch=5, lr=5e-5)"
   ]
  },
  {
   "cell_type": "code",
   "execution_count": 140,
   "metadata": {
    "tags": []
   },
   "outputs": [
    {
     "data": {
      "image/png": "[encoded data removed]",
      "text/plain": [
       "<Figure size 640x480 with 1 Axes>"
      ]
     },
     "metadata": {},
     "output_type": "display_data"
    }
   ],
   "source": [
    "plt.title('Cosine LR decay, 500 bs, P = 0.4 (earlier 0.1)')\n",
    "plt.plot(lossi, label='train loss')\n",
    "plt.plot(vlossi, label='valid loss')\n",
    "\n",
    "for sp in saves:\n",
    "    plt.plot(sp, vlossi[sp], 'ro')  # red dots on the validation loss line\n",
    "\n",
    "\n",
    "plt.legend()\n",
    "plt.show()"
   ]
  },
  {
   "cell_type": "code",
   "execution_count": 141,
   "metadata": {
    "tags": []
   },
   "outputs": [
    {
     "data": {
      "text/plain": [
       "<All keys matched successfully>"
      ]
     },
     "execution_count": 141,
     "metadata": {},
     "output_type": "execute_result"
    }
   ],
   "source": [
    "model = TinyBERT()\n",
    "model.load_state_dict(torch.load('./tinybert.cuda.pth', map_location=torch.device('cpu')))"
   ]
  },
  {
   "cell_type": "code",
   "execution_count": 195,
   "metadata": {
    "tags": []
   },
   "outputs": [
    {
     "data": {
      "text/plain": [
       "'[CLS] but he was glad, I ri, to see me.[SEP]'"
      ]
     },
     "execution_count": 195,
     "metadata": {},
     "output_type": "execute_result"
    }
   ],
   "source": [
    "context = \"[CLS] but he was glad, I [MASK], to see me.[SEP]\"\n",
    "\n",
    "input_ids = tkn.encode(context)\n",
    "input_ids = torch.tensor(input_ids).unsqueeze(0)\n",
    "attn_mask = torch.ones(input_ids.shape)\n",
    "\n",
    "with torch.no_grad():\n",
    "  logits, _ = model(input_ids, attn_mask)\n",
    "  preds = logits.softmax(-1).squeeze(0)\n",
    "\n",
    "mask_token_idx = input_ids.squeeze().tolist().index(special_tokens[MASK])\n",
    "\n",
    "preds = preds[mask_token_idx]\n",
    "token = torch.multinomial(preds, 1)\n",
    "fill_mask = tkn.decode(token.tolist())\n",
    "\n",
    "''.join([fill_mask if i == special_tokens[MASK] else tkn.decode([i]) for i in input_ids.squeeze(0).tolist()])"
   ]
  }
 ],
 "metadata": {
  "kernelspec": {
   "display_name": "fun",
   "language": "python",
   "name": "python3"
  },
  "language_info": {
   "codemirror_mode": {
    "name": "ipython",
    "version": 3
   },
   "file_extension": ".py",
   "mimetype": "text/x-python",
   "name": "python",
   "nbconvert_exporter": "python",
   "pygments_lexer": "ipython3",
   "version": "3.10.12"
  }
 },
 "nbformat": 4,
 "nbformat_minor": 4
}
