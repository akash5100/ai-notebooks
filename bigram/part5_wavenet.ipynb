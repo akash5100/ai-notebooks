{
 "cells": [
  {
   "cell_type": "markdown",
   "metadata": {},
   "source": [
    "Research paper used:\n",
    "https://arxiv.org/pdf/1609.03499.pdf"
   ]
  },
  {
   "cell_type": "code",
   "execution_count": 1,
   "metadata": {},
   "outputs": [],
   "source": [
    "import torch\n",
    "import torch.nn.functional as F\n",
    "import matplotlib.pyplot as plt\n",
    "\n",
    "torch.manual_seed(42); # for reproducibility"
   ]
  },
  {
   "cell_type": "code",
   "execution_count": 2,
   "metadata": {},
   "outputs": [],
   "source": [
    "words = open('names.txt', 'r').read().splitlines()\n",
    "chars = sorted(list(set(\".\".join(words))))\n",
    "stoi = {c:i for i,c in enumerate(chars)}\n",
    "itos = {c:i for i,c in stoi.items()}\n",
    "vocab_size = len(chars)"
   ]
  },
  {
   "cell_type": "code",
   "execution_count": 3,
   "metadata": {},
   "outputs": [
    {
     "name": "stdout",
     "output_type": "stream",
     "text": [
      "torch.Size([182625, 8]) torch.Size([182625])\n",
      "torch.Size([22655, 8]) torch.Size([22655])\n",
      "torch.Size([22866, 8]) torch.Size([22866])\n"
     ]
    }
   ],
   "source": [
    "# preparing the dataset\n",
    "block_size = 8 # context length: how many characters do we take to predict the next one?\n",
    "\n",
    "def build_dataset(words):\n",
    "  X, Y = [], []\n",
    "\n",
    "  for w in words:\n",
    "    context = [0] * block_size\n",
    "    for ch in w + '.':\n",
    "      ix = stoi[ch]\n",
    "      X.append(context)\n",
    "      Y.append(ix)\n",
    "      context = context[1:] + [ix] # crop and append\n",
    "\n",
    "  X = torch.tensor(X)\n",
    "  Y = torch.tensor(Y)\n",
    "  print(X.shape, Y.shape)\n",
    "  return X, Y\n",
    "\n",
    "import random\n",
    "random.seed(42)\n",
    "random.shuffle(words)\n",
    "n1 = int(0.8*len(words))\n",
    "n2 = int(0.9*len(words))\n",
    "\n",
    "Xtr,  Ytr  = build_dataset(words[:n1])     # 80%\n",
    "Xdev, Ydev = build_dataset(words[n1:n2])   # 10%\n",
    "Xte,  Yte  = build_dataset(words[n2:])     # 10%"
   ]
  },
  {
   "cell_type": "code",
   "execution_count": 4,
   "metadata": {},
   "outputs": [
    {
     "name": "stdout",
     "output_type": "stream",
     "text": [
      "........ --> y\n",
      ".......y --> u\n",
      "......yu --> h\n",
      ".....yuh --> e\n",
      "....yuhe --> n\n",
      "...yuhen --> g\n",
      "..yuheng --> .\n",
      "........ --> d\n",
      ".......d --> i\n",
      "......di --> o\n",
      ".....dio --> n\n",
      "....dion --> d\n",
      "...diond --> r\n",
      "..diondr --> e\n",
      ".diondre --> .\n",
      "........ --> x\n",
      ".......x --> a\n",
      "......xa --> v\n",
      ".....xav --> i\n",
      "....xavi --> e\n"
     ]
    }
   ],
   "source": [
    "# validate the dataset\n",
    "for x,y in zip(Xtr[:20],Ytr[:20]):\n",
    "  print(''.join([itos[i.item()] for i in x]), '-->' ,itos[y.item()])"
   ]
  },
  {
   "cell_type": "code",
   "execution_count": 43,
   "metadata": {},
   "outputs": [],
   "source": [
    "# Need 3 methods, init (obviously), call and parameters (to set we 'need grads')\n",
    "\n",
    "# -----------------------------------------------------------------------------------------------\n",
    "class Linear:\n",
    "  def __init__(self, fan_in, fan_out, bias=True):\n",
    "    self.weight = torch.randn((fan_in, fan_out)) / fan_in**0.5 # note: kaiming init\n",
    "    self.bias = torch.zeros(fan_out) if bias else None\n",
    "  \n",
    "  def __call__(self, x):\n",
    "    self.out = x @ self.weight\n",
    "    if self.bias is not None:\n",
    "      self.out += self.bias\n",
    "    return self.out\n",
    "  \n",
    "  def parameters(self):\n",
    "    return [self.weight] + ([] if self.bias is None else [self.bias])\n",
    "\n",
    "# -----------------------------------------------------------------------------------------------\n",
    "class BatchNorm1d:\n",
    "  def __init__(self, dim, momentum=0.1, eps=1e-5):\n",
    "    self.training = True\n",
    "    self.eps = eps\n",
    "    self.momentum = momentum\n",
    "    self.gamma = torch.ones(dim)\n",
    "    self.beta = torch.zeros(dim)\n",
    "    self.running_mean = torch.zeros(dim)\n",
    "    self.running_var = torch.ones(dim)\n",
    "\n",
    "  def __call__(self, x):\n",
    "    if self.training:\n",
    "      if x.ndim == 2:\n",
    "        dim = 0\n",
    "      elif x.ndim == 3:\n",
    "        dim = (0,1)\n",
    "      xmean = x.mean(dim, keepdim=True)\n",
    "      xvar = x.var(dim, unbiased=True, keepdim=True)\n",
    "    else:\n",
    "      xmean = self.running_mean\n",
    "      xvar = self.running_var\n",
    "    dx = (x - xmean)/torch.sqrt(xvar + self.eps)\n",
    "    self.out = self.gamma * dx + self.beta\n",
    "\n",
    "    if self.training:\n",
    "      with torch.no_grad():\n",
    "        self.running_mean = (1.0 - self.momentum) * self.running_mean + self.momentum * xmean\n",
    "        self.running_var = (1.0 - self.momentum) * self.running_var + self.momentum * xvar\n",
    "    return self.out\n",
    "  \n",
    "  def parameters(self):\n",
    "    return [self.gamma, self.beta]\n",
    "\n",
    "# -----------------------------------------------------------------------------------------------\n",
    "class Tanh:\n",
    "  def __call__(self, x):\n",
    "    self.out = torch.tanh(x)\n",
    "    return self.out\n",
    "  def parameters(self):\n",
    "    return []\n",
    "\n",
    "# -----------------------------------------------------------------------------------------------\n",
    "class Embedding:\n",
    "  def __init__(self, num_embeddings, embedding_dim):\n",
    "    self.weight = torch.randn((num_embeddings, embedding_dim))\n",
    "\n",
    "  def __call__(self, idx):\n",
    "    self.out = self.weight[idx]\n",
    "    return self.out\n",
    "  \n",
    "  def parameters(self):\n",
    "    return [self.weight]\n",
    "\n",
    "# -----------------------------------------------------------------------------------------------\n",
    "class Flatten: # this matches pytorch's nn.Flatten API\n",
    "  def __call__(self, x):\n",
    "    self.out = x.view(x.size(0), -1)\n",
    "    return self.out\n",
    "\n",
    "  def parameters(self):\n",
    "    return []\n",
    "\n",
    "# -----------------------------------------------------------------------------------------------\n",
    "class FlattenConsecutive: # this is better!\n",
    "  def __init__(self, n):\n",
    "    self.n = n\n",
    "\n",
    "  def __call__(self, x):\n",
    "    B, T, C = x.shape\n",
    "    x = x.view(B, T//self.n, C*self.n)\n",
    "    if x.shape[1] == 1:\n",
    "      x = x.squeeze(1)\n",
    "    self.out = x\n",
    "    return self.out\n",
    "\n",
    "  def parameters(self):\n",
    "    return []\n",
    "\n",
    "# -----------------------------------------------------------------------------------------------\n",
    "class Sequential:\n",
    "  def __init__(self, layers):\n",
    "    self.layers = layers\n",
    "\n",
    "  def __call__(self, x):\n",
    "    for layer in self.layers:\n",
    "      x = layer(x)\n",
    "    self.out = x\n",
    "    return self.out\n",
    "\n",
    "  def parameters(self):\n",
    "    return [p for layer in self.layers for p in layer.parameters()]"
   ]
  },
  {
   "cell_type": "code",
   "execution_count": 91,
   "metadata": {},
   "outputs": [
    {
     "name": "stdout",
     "output_type": "stream",
     "text": [
      "48775\n"
     ]
    }
   ],
   "source": [
    "# Boiler plate of model initialization\n",
    "# model = Sequential([\n",
    "#   Embedding(), # embedding\n",
    "#   Flatten(), Linear(), BatchNorm1d(), Tanh(), # flat -> input -> batchnorm -> nonlinearity\n",
    "#   Linear(), # output layer\n",
    "# ])\n",
    "\n",
    "\n",
    "# Initialize the model\n",
    "emb_sz = 24\n",
    "n_hidden = 100\n",
    "\n",
    "model = Sequential([\n",
    "  Embedding(vocab_size, emb_sz), # B, S, C\n",
    "  FlattenConsecutive(2), Linear(emb_sz  *2, n_hidden, bias=False), BatchNorm1d(n_hidden), Tanh(),\n",
    "  FlattenConsecutive(2), Linear(n_hidden*2, n_hidden, bias=False), BatchNorm1d(n_hidden), Tanh(),\n",
    "  FlattenConsecutive(2), Linear(n_hidden*2, n_hidden, bias=False), BatchNorm1d(n_hidden), Tanh(),\n",
    "  Linear(n_hidden, vocab_size)\n",
    "])\n",
    "\n",
    "parameters = model.parameters()\n",
    "print(sum([p.nelement() for p in parameters]))\n",
    "for p in parameters:\n",
    "  p.requires_grad = True"
   ]
  },
  {
   "cell_type": "code",
   "execution_count": 94,
   "metadata": {},
   "outputs": [
    {
     "name": "stdout",
     "output_type": "stream",
     "text": [
      "      0/ 200000:  2.2583 |  9.5669\n",
      "  10000/ 200000:  2.1489 |  8.5755\n",
      "  20000/ 200000:  1.8733 |  6.5099\n",
      "  30000/ 200000:  2.6845 | 14.6502\n",
      "  40000/ 200000:  2.1906 |  8.9407\n",
      "  50000/ 200000:  2.0389 |  7.6822\n",
      "  60000/ 200000:  1.8903 |  6.6211\n",
      "  70000/ 200000:  2.2178 |  9.1872\n",
      "  80000/ 200000:  1.6950 |  5.4465\n",
      "  90000/ 200000:  1.9959 |  7.3586\n",
      " 100000/ 200000:  1.9999 |  7.3880\n",
      " 110000/ 200000:  1.9641 |  7.1287\n",
      " 120000/ 200000:  1.9402 |  6.9604\n",
      " 130000/ 200000:  1.7308 |  5.6453\n",
      " 140000/ 200000:  1.8876 |  6.6038\n",
      " 150000/ 200000:  1.7886 |  5.9810\n",
      " 160000/ 200000:  1.8135 |  6.1317\n",
      " 170000/ 200000:  1.7101 |  5.5295\n",
      " 180000/ 200000:  2.2178 |  9.1868\n",
      " 190000/ 200000:  2.1683 |  8.7431\n"
     ]
    }
   ],
   "source": [
    "bs = 32\n",
    "epoch = 200000\n",
    "losses = []\n",
    "\n",
    "for i in range(epoch):\n",
    "  # mini batch\n",
    "  idx = torch.randint(0, len(Xtr), (bs,))\n",
    "  Xbs, Ybs = Xtr[idx], Ytr[idx]\n",
    "\n",
    "  # forward\n",
    "  logits = model(Xbs)\n",
    "  loss = F.cross_entropy(logits, Ybs)\n",
    "\n",
    "  # backward\n",
    "  for p in parameters:\n",
    "    p.grad = None\n",
    "  loss.backward()\n",
    "\n",
    "  # step\n",
    "  lr = 0.01 if i < 100000 else 0.001\n",
    "  for p in parameters:\n",
    "    p.data -= lr * p.grad\n",
    "\n",
    "  # track\n",
    "  perp = torch.exp(loss)\n",
    "  losses.append(loss.log10().item())\n",
    "  if i % 10000 == 0: # print every once in a while\n",
    "    print(f'{i:7d}/{epoch:7d}: {loss.item():7.4f} | {perp.item():7.4f}')"
   ]
  },
  {
   "cell_type": "code",
   "execution_count": 95,
   "metadata": {},
   "outputs": [
    {
     "data": {
      "image/png": "[encoded data removed]",
      "text/plain": [
       "<Figure size 640x480 with 1 Axes>"
      ]
     },
     "metadata": {},
     "output_type": "display_data"
    }
   ],
   "source": [
    "# plot loss\n",
    "plt.plot(torch.tensor(losses).view(-1, 100).mean(1));"
   ]
  },
  {
   "cell_type": "code",
   "execution_count": 96,
   "metadata": {},
   "outputs": [
    {
     "name": "stdout",
     "output_type": "stream",
     "text": [
      "train 1.9067895412445068\n",
      "val 2.009490966796875\n"
     ]
    }
   ],
   "source": [
    "# cal split loss\n",
    "for layer in model.layers:\n",
    "  layer.training = False\n",
    "\n",
    "@torch.no_grad() # this decorator disables gradient tracking inside pytorch\n",
    "def split_loss(split):\n",
    "  x,y = {\n",
    "    'train': (Xtr, Ytr),\n",
    "    'val': (Xdev, Ydev),\n",
    "    'test': (Xte, Yte),\n",
    "  }[split]\n",
    "  logits = model(x)\n",
    "  loss = F.cross_entropy(logits, y)\n",
    "  print(split, loss.item())\n",
    "\n",
    "split_loss('train')\n",
    "split_loss('val')"
   ]
  },
  {
   "cell_type": "code",
   "execution_count": 97,
   "metadata": {},
   "outputs": [
    {
     "name": "stdout",
     "output_type": "stream",
     "text": [
      "swaina.\n",
      "lendon.\n",
      "jouyncie.\n",
      "tyniab.\n",
      "jossain.\n",
      "edem.\n",
      "joian.\n",
      "tayton.\n",
      "vikushi.\n",
      "whittne.\n",
      "inilan.\n",
      "mollion.\n",
      "anan.\n",
      "massidus.\n",
      "cishton.\n",
      "kidy.\n",
      "aydel.\n",
      "shriya.\n",
      "elianny.\n",
      "clasym.\n"
     ]
    }
   ],
   "source": [
    "# sample from the model\n",
    "for _ in range(20):\n",
    "    \n",
    "    out = []\n",
    "    context = [0] * block_size # initialize with all ...\n",
    "    while True:\n",
    "      # forward pass the neural net\n",
    "      logits = model(torch.tensor([context]))\n",
    "      probs = F.softmax(logits, dim=1)\n",
    "      # sample from the distribution\n",
    "      ix = torch.multinomial(probs, num_samples=1).item()\n",
    "      # shift the context window and track the samples\n",
    "      context = context[1:] + [ix]\n",
    "      out.append(ix)\n",
    "      # if we sample the special '.' token, break\n",
    "      if ix == 0:\n",
    "        break\n",
    "    \n",
    "    print(''.join(itos[i] for i in out)) # decode and print the generated word"
   ]
  }
 ],
 "metadata": {
  "kernelspec": {
   "display_name": "fun",
   "language": "python",
   "name": "python3"
  },
  "language_info": {
   "codemirror_mode": {
    "name": "ipython",
    "version": 3
   },
   "file_extension": ".py",
   "mimetype": "text/x-python",
   "name": "python",
   "nbconvert_exporter": "python",
   "pygments_lexer": "ipython3",
   "version": "3.10.12"
  }
 },
 "nbformat": 4,
 "nbformat_minor": 2
}
