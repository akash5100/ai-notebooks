{
 "cells": [
  {
   "cell_type": "code",
   "execution_count": 1,
   "metadata": {},
   "outputs": [],
   "source": [
    "import torch\n",
    "import torch.nn.functional as F\n",
    "import matplotlib.pyplot as plt"
   ]
  },
  {
   "cell_type": "code",
   "execution_count": 2,
   "metadata": {},
   "outputs": [],
   "source": [
    "words = open('names.txt', 'r').read().splitlines()\n",
    "chars = sorted(list(set(\".\".join(words))))\n",
    "stoi = {c:i for i,c in enumerate(chars)}\n",
    "itos = {c:i for i,c in stoi.items()}"
   ]
  },
  {
   "cell_type": "code",
   "execution_count": 3,
   "metadata": {},
   "outputs": [],
   "source": [
    "# Build dataset\n",
    "\n",
    "def build_dataset(n, data, splits):\n",
    "  X, Y = [], []\n",
    "  for w in data:\n",
    "    padding = [0]*n\n",
    "    for ch in w + '.':\n",
    "      ix = stoi[ch]\n",
    "      X.append(padding)\n",
    "      Y.append(ix)\n",
    "      padding = padding[1:] + [ix] #sliding window\n",
    "  X,Y = torch.tensor(X),torch.tensor(Y)\n",
    "  tr, va, te = splits\n",
    "  tr = int(X.shape[0]*0.8)\n",
    "  va = int(X.shape[0]*0.1)\n",
    "\n",
    "  xtrain, ytrain = X[:tr], Y[:tr]\n",
    "  xvalid, yvalid = X[tr:tr+va], Y[tr:tr+va]\n",
    "  xtest, ytest = X[tr+va:], Y[tr+va:]\n",
    "  return [xtrain, ytrain, xvalid, yvalid, xtest, ytest]\n",
    "\n",
    "xtrain, ytrain, xvalid, yvalid, xtest, ytest = build_dataset(n=3, data=words, splits=(0.8, 0.1, 0.1))"
   ]
  },
  {
   "cell_type": "code",
   "execution_count": 46,
   "metadata": {},
   "outputs": [
    {
     "data": {
      "text/plain": [
       "12297"
      ]
     },
     "execution_count": 46,
     "metadata": {},
     "output_type": "execute_result"
    }
   ],
   "source": [
    "g = torch.Generator().manual_seed(123123)\n",
    "\n",
    "# Hyperparameters\n",
    "n = 3 # trigram model\n",
    "emb_sz = 10\n",
    "n_hidden = 200\n",
    "vocab_sz = len(chars) # it's 27\n",
    "\n",
    "# --------------------------------------------------\n",
    "\n",
    "# embedding matrix -> Hidden layer -> output layer\n",
    "C  = torch.randn(vocab_sz, emb_sz,   generator=g)\n",
    "w1 = torch.randn(n*emb_sz, n_hidden, generator=g) * (5/3) / ((n*emb_sz)**0.5)\n",
    "# b1 = torch.randn(n_hidden,           generator=g) * 0.01\n",
    "w2 = torch.randn(n_hidden, vocab_sz, generator=g) * 0.01\n",
    "b2 = torch.randn(vocab_sz,           generator=g) * 0\n",
    "\n",
    "hgain = torch.ones(1, n_hidden) # scale\n",
    "hbias = torch.zeros(1, n_hidden) # offset\n",
    "hmean_running = torch.zeros(1, n_hidden)\n",
    "hstd_running = torch.ones(1, n_hidden)\n",
    "\n",
    "# Setting up gradient requirements\n",
    "parameters = [C, w1, w2, b2, hgain, hbias]\n",
    "for p in parameters:\n",
    "  p.requires_grad = True\n",
    "\n",
    "sum([p.nelement() for p in parameters])"
   ]
  },
  {
   "cell_type": "code",
   "execution_count": 47,
   "metadata": {},
   "outputs": [],
   "source": [
    "lri = []\n",
    "lossi = []\n",
    "stepi = []"
   ]
  },
  {
   "cell_type": "markdown",
   "metadata": {},
   "source": [
    "# Batch Normalization\n",
    "The basic idea is as follow: we want out hidden state (h) to be in gaussian distribution, then why dont we take them and normalize them to be gaussian?"
   ]
  },
  {
   "cell_type": "code",
   "execution_count": 73,
   "metadata": {},
   "outputs": [
    {
     "name": "stdout",
     "output_type": "stream",
     "text": [
      "epoch:       0/ 200000 | loss: 1.8563 | perplexity: 6.3997\n",
      "epoch:   10000/ 200000 | loss: 2.1793 | perplexity: 8.8400\n",
      "epoch:   20000/ 200000 | loss: 2.2164 | perplexity: 9.1744\n",
      "epoch:   30000/ 200000 | loss: 2.0239 | perplexity: 7.5677\n",
      "epoch:   40000/ 200000 | loss: 2.2295 | perplexity: 9.2956\n",
      "epoch:   50000/ 200000 | loss: 2.3177 | perplexity: 10.1522\n",
      "epoch:   60000/ 200000 | loss: 2.0368 | perplexity: 7.6661\n",
      "epoch:   70000/ 200000 | loss: 1.8362 | perplexity: 6.2726\n",
      "epoch:   80000/ 200000 | loss: 2.0736 | perplexity: 7.9532\n",
      "epoch:   90000/ 200000 | loss: 1.8819 | perplexity: 6.5661\n",
      "epoch:  100000/ 200000 | loss: 2.3132 | perplexity: 10.1069\n",
      "epoch:  110000/ 200000 | loss: 1.6984 | perplexity: 5.4653\n",
      "epoch:  120000/ 200000 | loss: 2.1778 | perplexity: 8.8266\n",
      "epoch:  130000/ 200000 | loss: 1.8907 | perplexity: 6.6243\n",
      "epoch:  140000/ 200000 | loss: 2.1736 | perplexity: 8.7897\n",
      "epoch:  150000/ 200000 | loss: 2.0573 | perplexity: 7.8246\n",
      "epoch:  160000/ 200000 | loss: 2.0905 | perplexity: 8.0890\n",
      "epoch:  170000/ 200000 | loss: 1.8438 | perplexity: 6.3207\n",
      "epoch:  180000/ 200000 | loss: 2.4152 | perplexity: 11.1920\n",
      "epoch:  190000/ 200000 | loss: 2.0675 | perplexity: 7.9054\n"
     ]
    }
   ],
   "source": [
    "epoch = 200_000\n",
    "bs = 32 # batch sz\n",
    "wd = 0.01 # weight decay\n",
    "epsilon = 0.01 # constant for batch norm\n",
    "\n",
    "for i in range(epoch):\n",
    "  # mini batch\n",
    "  idx = torch.randint(0, xtrain.shape[0], size=(bs,))\n",
    "  xbs, ybs = xtrain[idx], ytrain[idx] # batch\n",
    "\n",
    "  # forward pass\n",
    "  emb = C[xbs]\n",
    "  hpreact = emb.view(emb.shape[0], -1) @ w1 # + b1\n",
    "  hmean = hpreact.mean(0, keepdim=True)\n",
    "  hstd = hpreact.std(0, keepdim=True)\n",
    "  hpreact = hgain * (hpreact - hmean / hstd + epsilon) + hbias\n",
    "  \n",
    "  with torch.no_grad():\n",
    "     hmean_running = 0.999 * hmean_running + hmean * 0.001\n",
    "     hstd_running = 0.999 * hstd_running + hstd * 0.001\n",
    "\n",
    "  h = torch.tanh(hpreact)\n",
    "  logits = h @ w2 + b2\n",
    "  loss = F.cross_entropy(logits, ybs)\n",
    "  perplexity = torch.exp(loss)\n",
    "\n",
    "  # backward pass\n",
    "  for p in parameters:\n",
    "    p.grad = None\n",
    "  loss.backward()\n",
    "\n",
    "  # update\n",
    "  lr = 0.01 if i < 100_000 else 0.001\n",
    "  for p in parameters:\n",
    "      if p.grad is not None:  # Check if gradient is not None\n",
    "          p.data -= p.grad.data * lr\n",
    "\n",
    "  # track\n",
    "  # lri.append(lr)\n",
    "  # stepi.append(i)\n",
    "  lossi.append(loss.log10().item())\n",
    "\n",
    "  if i%10000 == 0:\n",
    "    print(f\"epoch: {i:7d}/{epoch:7d} | loss: {loss.item():.4f} | perplexity: {perplexity.item():.4f}\")\n"
   ]
  },
  {
   "cell_type": "code",
   "execution_count": 74,
   "metadata": {},
   "outputs": [
    {
     "data": {
      "text/plain": [
       "<matplotlib.image.AxesImage at 0x7f48e8089f30>"
      ]
     },
     "execution_count": 74,
     "metadata": {},
     "output_type": "execute_result"
    },
    {
     "data": {
      "image/png": "[encoded data removed]",
      "text/plain": [
       "<Figure size 2000x1000 with 1 Axes>"
      ]
     },
     "metadata": {},
     "output_type": "display_data"
    }
   ],
   "source": [
    "plt.figure(figsize=(20,10))\n",
    "plt.imshow(h.abs() > 0.99, cmap='gray', interpolation='nearest')"
   ]
  },
  {
   "cell_type": "code",
   "execution_count": 75,
   "metadata": {},
   "outputs": [],
   "source": [
    "# instead of using z-score of test and valid batch, we use what we trained.\n",
    "# this is not done, because this is an extra step b/w training and testing a model\n",
    "# so instead we keep the track of std and mean while training, through running mean and std\n",
    "with torch.no_grad():\n",
    "  emb = C[xtrain]\n",
    "  hpreact = emb.view(xtrain.shape[0], -1) @ w1 # + b1\n",
    "  hgmean = hpreact.mean(0,keepdim=True)\n",
    "  hbstd = hpreact.std(0,keepdim=True)"
   ]
  },
  {
   "cell_type": "code",
   "execution_count": 76,
   "metadata": {},
   "outputs": [
    {
     "name": "stdout",
     "output_type": "stream",
     "text": [
      "train loss: 2.0424, valid loss: 2.3500\n"
     ]
    }
   ],
   "source": [
    "with torch.no_grad():\n",
    "  # train loss\n",
    "  emb = C[xtrain]\n",
    "  hpreact = emb.view(emb.shape[0], -1) @ w1 # + b1\n",
    "  hpreact = hgain * (hpreact - hgmean / hbstd) + hbias\n",
    "  h = torch.tanh(hpreact)\n",
    "  logits = h@w2 + b2\n",
    "  tloss = F.cross_entropy(logits, ytrain)\n",
    "\n",
    "  # valid loss\n",
    "  emb = C[xvalid]\n",
    "  hpreact = emb.view(emb.shape[0], -1) @ w1 # + b1\n",
    "  hpreact = hgain * (hpreact - hgmean / hbstd) + hbias\n",
    "  h = torch.tanh(hpreact)\n",
    "  logits = h@w2 + b2\n",
    "  vloss = F.cross_entropy(logits, yvalid)\n",
    "\n",
    "\n",
    "print(f\"train loss: {tloss.item():.4f}, valid loss: {vloss.item():.4f}\")"
   ]
  },
  {
   "cell_type": "code",
   "execution_count": 77,
   "metadata": {},
   "outputs": [
    {
     "name": "stdout",
     "output_type": "stream",
     "text": [
      "train loss: 2.0423, valid loss: 2.3502\n"
     ]
    }
   ],
   "source": [
    "# using running std and mean of hidden state\n",
    "with torch.no_grad():\n",
    "  # train loss\n",
    "  emb = C[xtrain]\n",
    "  hpreact = emb.view(emb.shape[0], -1) @ w1 # + b1\n",
    "  hpreact = hgain * (hpreact - hmean_running / hstd_running) + hbias\n",
    "  h = torch.tanh(hpreact)\n",
    "  logits = h@w2 + b2\n",
    "  tloss = F.cross_entropy(logits, ytrain)\n",
    "\n",
    "  # valid loss\n",
    "  emb = C[xvalid]\n",
    "  hpreact = emb.view(emb.shape[0], -1) @ w1 # + b1\n",
    "  hpreact = hgain * (hpreact - hmean_running / hstd_running) + hbias\n",
    "  h = torch.tanh(hpreact)\n",
    "  logits = h@w2 + b2\n",
    "  vloss = F.cross_entropy(logits, yvalid)\n",
    "\n",
    "\n",
    "print(f\"train loss: {tloss.item():.4f}, valid loss: {vloss.item():.4f}\")"
   ]
  },
  {
   "cell_type": "code",
   "execution_count": 165,
   "metadata": {},
   "outputs": [
    {
     "name": "stdout",
     "output_type": "stream",
     "text": [
      "jocee.\n",
      "tia.\n",
      "ary.\n",
      "luiumaimonie.\n",
      "aalin.\n",
      "peighnie.\n",
      "anaison.\n",
      "rudti.\n",
      "funi.\n",
      "rah.\n"
     ]
    }
   ],
   "source": [
    "#Sampling\n",
    "\n",
    "for _ in range(10):\n",
    "  padding = [0]*n\n",
    "  out = []\n",
    "  while True:\n",
    "    idx = 0\n",
    "    emb = C[torch.tensor([padding])]\n",
    "    hpreact = emb.view(1,-1) @ w1\n",
    "    hpreact = hgain * (hpreact - hmean_running / hstd_running) + hbias\n",
    "    h = torch.tanh(hpreact)\n",
    "    logits = torch.softmax(h@w2 + b2, 1)\n",
    "    idx = torch.multinomial(logits, num_samples=1, replacement=True)\n",
    "    padding = padding[1:] + [idx]\n",
    "    out.append(itos[idx.item()])\n",
    "    if idx == 0: break\n",
    "\n",
    "  print(\"\".join(out))"
   ]
  }
 ],
 "metadata": {
  "kernelspec": {
   "display_name": "fun",
   "language": "python",
   "name": "python3"
  },
  "language_info": {
   "codemirror_mode": {
    "name": "ipython",
    "version": 3
   },
   "file_extension": ".py",
   "mimetype": "text/x-python",
   "name": "python",
   "nbconvert_exporter": "python",
   "pygments_lexer": "ipython3",
   "version": "3.10.12"
  }
 },
 "nbformat": 4,
 "nbformat_minor": 2
}
